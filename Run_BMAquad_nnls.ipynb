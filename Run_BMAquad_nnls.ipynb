{
 "cells": [
  {
   "cell_type": "code",
   "execution_count": 1,
   "metadata": {},
   "outputs": [],
   "source": [
    "import Script_BMAquad_Unmixing_nnls\n",
    "import importlib\n",
    "importlib.reload(Script_BMAquad_Unmixing_nnls)\n",
    "\n",
    "image_hdr_filename = \"cup95eff.hdr\"\n",
    "image_filename = \"cup95eff.int\"\n",
    "pixel_location = \"ROIs2.csv\"\n",
    "spectral_library_filename = \"usgs_minerals.hdr\"\n",
    "\n",
    "# Create an instance of the Unmix class\n",
    "unmixing_instance = Script_BMAquad_Unmixing_nnls.BMAquad(image_hdr_filename, image_filename, pixel_location, spectral_library_filename)"
   ]
  },
  {
   "cell_type": "code",
   "execution_count": 2,
   "metadata": {},
   "outputs": [
    {
     "name": "stdout",
     "output_type": "stream",
     "text": [
      "alunite hill 1\n",
      "The number of variables required to for the next iteration exceed the number of candidate models\n",
      "BMA is finishing early at iteration: 3\n",
      "The number of variables required to for the next iteration exceed the number of candidate models\n",
      "BMA is finishing early at iteration: 2\n",
      "The number of variables required to for the next iteration exceed the number of candidate models\n",
      "BMA is finishing early at iteration: 3\n",
      "The number of variables required to for the next iteration exceed the number of candidate models\n",
      "BMA is finishing early at iteration: 3\n",
      "The number of variables required to for the next iteration exceed the number of candidate models\n",
      "BMA is finishing early at iteration: 3\n",
      "The number of variables required to for the next iteration exceed the number of candidate models\n",
      "BMA is finishing early at iteration: 3\n",
      "The number of variables required to for the next iteration exceed the number of candidate models\n",
      "BMA is finishing early at iteration: 3\n",
      "The number of variables required to for the next iteration exceed the number of candidate models\n",
      "BMA is finishing early at iteration: 3\n",
      "The number of variables required to for the next iteration exceed the number of candidate models\n",
      "BMA is finishing early at iteration: 3\n",
      "The number of variables required to for the next iteration exceed the number of candidate models\n",
      "BMA is finishing early at iteration: 3\n",
      "The number of variables required to for the next iteration exceed the number of candidate models\n",
      "BMA is finishing early at iteration: 3\n",
      "The number of variables required to for the next iteration exceed the number of candidate models\n",
      "BMA is finishing early at iteration: 3\n",
      "The number of variables required to for the next iteration exceed the number of candidate models\n",
      "BMA is finishing early at iteration: 3\n",
      "The number of variables required to for the next iteration exceed the number of candidate models\n",
      "BMA is finishing early at iteration: 3\n",
      "The number of variables required to for the next iteration exceed the number of candidate models\n",
      "BMA is finishing early at iteration: 3\n",
      "The number of variables required to for the next iteration exceed the number of candidate models\n",
      "BMA is finishing early at iteration: 3\n",
      "The number of variables required to for the next iteration exceed the number of candidate models\n",
      "BMA is finishing early at iteration: 3\n",
      "The number of variables required to for the next iteration exceed the number of candidate models\n",
      "BMA is finishing early at iteration: 3\n",
      "The number of variables required to for the next iteration exceed the number of candidate models\n",
      "BMA is finishing early at iteration: 3\n",
      "The number of variables required to for the next iteration exceed the number of candidate models\n",
      "BMA is finishing early at iteration: 3\n",
      "The number of variables required to for the next iteration exceed the number of candidate models\n",
      "BMA is finishing early at iteration: 3\n",
      "The number of variables required to for the next iteration exceed the number of candidate models\n",
      "BMA is finishing early at iteration: 3\n",
      "The number of variables required to for the next iteration exceed the number of candidate models\n",
      "BMA is finishing early at iteration: 3\n",
      "The number of variables required to for the next iteration exceed the number of candidate models\n",
      "BMA is finishing early at iteration: 3\n",
      "The number of variables required to for the next iteration exceed the number of candidate models\n",
      "BMA is finishing early at iteration: 3\n",
      "The number of variables required to for the next iteration exceed the number of candidate models\n",
      "BMA is finishing early at iteration: 3\n",
      "The number of variables required to for the next iteration exceed the number of candidate models\n",
      "BMA is finishing early at iteration: 3\n",
      "The number of variables required to for the next iteration exceed the number of candidate models\n",
      "BMA is finishing early at iteration: 3\n",
      "The number of variables required to for the next iteration exceed the number of candidate models\n",
      "BMA is finishing early at iteration: 3\n",
      "The number of variables required to for the next iteration exceed the number of candidate models\n",
      "BMA is finishing early at iteration: 3\n",
      "The number of variables required to for the next iteration exceed the number of candidate models\n",
      "BMA is finishing early at iteration: 3\n",
      "The number of variables required to for the next iteration exceed the number of candidate models\n",
      "BMA is finishing early at iteration: 3\n",
      "The number of variables required to for the next iteration exceed the number of candidate models\n",
      "BMA is finishing early at iteration: 3\n",
      "The number of variables required to for the next iteration exceed the number of candidate models\n",
      "BMA is finishing early at iteration: 3\n",
      "The number of variables required to for the next iteration exceed the number of candidate models\n",
      "BMA is finishing early at iteration: 3\n",
      "The number of variables required to for the next iteration exceed the number of candidate models\n",
      "BMA is finishing early at iteration: 3\n",
      "The number of variables required to for the next iteration exceed the number of candidate models\n",
      "BMA is finishing early at iteration: 3\n",
      "The number of variables required to for the next iteration exceed the number of candidate models\n",
      "BMA is finishing early at iteration: 3\n"
     ]
    },
    {
     "ename": "KeyboardInterrupt",
     "evalue": "",
     "output_type": "error",
     "traceback": [
      "\u001b[1;31m---------------------------------------------------------------------------\u001b[0m",
      "\u001b[1;31mKeyboardInterrupt\u001b[0m                         Traceback (most recent call last)",
      "\u001b[1;32m~\\AppData\\Local\\Temp\\ipykernel_36532\\1154637798.py\u001b[0m in \u001b[0;36m<module>\u001b[1;34m\u001b[0m\n\u001b[1;32m----> 1\u001b[1;33m \u001b[0munmixing_instance\u001b[0m\u001b[1;33m.\u001b[0m\u001b[0mselectedindex_fit\u001b[0m\u001b[1;33m(\u001b[0m\u001b[0mmineral_type\u001b[0m \u001b[1;33m=\u001b[0m \u001b[1;36m1\u001b[0m\u001b[1;33m,\u001b[0m \u001b[0mMaxVars\u001b[0m\u001b[1;33m=\u001b[0m\u001b[1;36m3\u001b[0m\u001b[1;33m)\u001b[0m\u001b[1;33m\u001b[0m\u001b[1;33m\u001b[0m\u001b[0m\n\u001b[0m",
      "\u001b[1;32mc:\\Users\\stvp2\\OneDrive\\Documents\\UVA PhD\\Research\\Proposal\\Script_BMAquad_Unmixing_nnls.py\u001b[0m in \u001b[0;36mselectedindex_fit\u001b[1;34m(self, mineral_type, **kwargs)\u001b[0m\n\u001b[0;32m    205\u001b[0m                     \u001b[0mself\u001b[0m\u001b[1;33m.\u001b[0m\u001b[0my_infer\u001b[0m \u001b[1;33m+=\u001b[0m  \u001b[0mself\u001b[0m\u001b[1;33m.\u001b[0m\u001b[0mX\u001b[0m\u001b[1;33m[\u001b[0m\u001b[1;33m:\u001b[0m\u001b[1;33m,\u001b[0m\u001b[0mi\u001b[0m\u001b[1;33m]\u001b[0m\u001b[1;33m*\u001b[0m\u001b[0mself\u001b[0m\u001b[1;33m.\u001b[0m\u001b[0mcoefficients\u001b[0m\u001b[1;33m[\u001b[0m\u001b[0mi\u001b[0m\u001b[1;33m]\u001b[0m \u001b[1;31m# contribution from linear terms\u001b[0m\u001b[1;33m\u001b[0m\u001b[1;33m\u001b[0m\u001b[0m\n\u001b[0;32m    206\u001b[0m                     \u001b[1;32mfor\u001b[0m \u001b[0mj\u001b[0m \u001b[1;32min\u001b[0m \u001b[0mrange\u001b[0m\u001b[1;33m(\u001b[0m\u001b[0mself\u001b[0m\u001b[1;33m.\u001b[0m\u001b[0mnCols\u001b[0m\u001b[1;33m)\u001b[0m\u001b[1;33m:\u001b[0m\u001b[1;33m\u001b[0m\u001b[1;33m\u001b[0m\u001b[0m\n\u001b[1;32m--> 207\u001b[1;33m                         \u001b[0mself\u001b[0m\u001b[1;33m.\u001b[0m\u001b[0my_infer\u001b[0m \u001b[1;33m+=\u001b[0m  \u001b[0mnp\u001b[0m\u001b[1;33m.\u001b[0m\u001b[0mmultiply\u001b[0m\u001b[1;33m(\u001b[0m\u001b[0mself\u001b[0m\u001b[1;33m.\u001b[0m\u001b[0mX\u001b[0m\u001b[1;33m[\u001b[0m\u001b[1;33m:\u001b[0m\u001b[1;33m,\u001b[0m\u001b[0mi\u001b[0m\u001b[1;33m]\u001b[0m\u001b[1;33m,\u001b[0m\u001b[0mself\u001b[0m\u001b[1;33m.\u001b[0m\u001b[0mX\u001b[0m\u001b[1;33m[\u001b[0m\u001b[1;33m:\u001b[0m\u001b[1;33m,\u001b[0m\u001b[0mj\u001b[0m\u001b[1;33m]\u001b[0m\u001b[1;33m)\u001b[0m\u001b[1;33m*\u001b[0m\u001b[0mself\u001b[0m\u001b[1;33m.\u001b[0m\u001b[0mcoefficients_quad\u001b[0m\u001b[1;33m[\u001b[0m\u001b[0mi\u001b[0m\u001b[1;33m,\u001b[0m\u001b[0mj\u001b[0m\u001b[1;33m]\u001b[0m \u001b[1;31m# contribution from quadratic terms\u001b[0m\u001b[1;33m\u001b[0m\u001b[1;33m\u001b[0m\u001b[0m\n\u001b[0m\u001b[0;32m    208\u001b[0m \u001b[1;33m\u001b[0m\u001b[0m\n\u001b[0;32m    209\u001b[0m \u001b[1;33m\u001b[0m\u001b[0m\n",
      "\u001b[1;31mKeyboardInterrupt\u001b[0m: "
     ]
    }
   ],
   "source": [
    "unmixing_instance.selectedindex_fit(mineral_type = 1, MaxVars=3)"
   ]
  }
 ],
 "metadata": {
  "kernelspec": {
   "display_name": "Python 3",
   "language": "python",
   "name": "python3"
  },
  "language_info": {
   "codemirror_mode": {
    "name": "ipython",
    "version": 3
   },
   "file_extension": ".py",
   "mimetype": "text/x-python",
   "name": "python",
   "nbconvert_exporter": "python",
   "pygments_lexer": "ipython3",
   "version": "3.9.12"
  }
 },
 "nbformat": 4,
 "nbformat_minor": 2
}
